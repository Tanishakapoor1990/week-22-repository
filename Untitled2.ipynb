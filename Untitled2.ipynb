{
 "cells": [
  {
   "cell_type": "code",
   "execution_count": 11,
   "id": "e7955d34",
   "metadata": {},
   "outputs": [
    {
     "name": "stderr",
     "output_type": "stream",
     "text": [
      "\n",
      "\n",
      "====== WebDriver manager ======\n",
      "Current google-chrome version is 92.0.4515\n",
      "Get LATEST driver version for 92.0.4515\n",
      "Driver [C:\\Users\\sunny\\.wdm\\drivers\\chromedriver\\win32\\92.0.4515.107\\chromedriver.exe] found in cache\n"
     ]
    }
   ],
   "source": [
    "from splinter import Browser\n",
    "from webdriver_manager.chrome import ChromeDriverManager\n",
    "import bs4\n",
    "import pandas as pd\n",
    "\n",
    "executable_path = {'executable_path': ChromeDriverManager().install()}\n",
    "browser = Browser('chrome', **executable_path, headless=False)\n"
   ]
  },
  {
   "cell_type": "code",
   "execution_count": 12,
   "id": "e0418906",
   "metadata": {},
   "outputs": [
    {
     "data": {
      "text/html": [
       "<div>\n",
       "<style scoped>\n",
       "    .dataframe tbody tr th:only-of-type {\n",
       "        vertical-align: middle;\n",
       "    }\n",
       "\n",
       "    .dataframe tbody tr th {\n",
       "        vertical-align: top;\n",
       "    }\n",
       "\n",
       "    .dataframe thead th {\n",
       "        text-align: right;\n",
       "    }\n",
       "</style>\n",
       "<table border=\"1\" class=\"dataframe\">\n",
       "  <thead>\n",
       "    <tr style=\"text-align: right;\">\n",
       "      <th></th>\n",
       "      <th>class</th>\n",
       "    </tr>\n",
       "  </thead>\n",
       "  <tbody>\n",
       "    <tr>\n",
       "      <th>0</th>\n",
       "      <td>Barbarian            ...</td>\n",
       "    </tr>\n",
       "    <tr>\n",
       "      <th>1</th>\n",
       "      <td>Bard                 ...</td>\n",
       "    </tr>\n",
       "    <tr>\n",
       "      <th>2</th>\n",
       "      <td>Cleric               ...</td>\n",
       "    </tr>\n",
       "    <tr>\n",
       "      <th>3</th>\n",
       "      <td>Druid                ...</td>\n",
       "    </tr>\n",
       "    <tr>\n",
       "      <th>4</th>\n",
       "      <td>Fighter              ...</td>\n",
       "    </tr>\n",
       "  </tbody>\n",
       "</table>\n",
       "</div>"
      ],
      "text/plain": [
       "                                               class\n",
       "0                           Barbarian            ...\n",
       "1                           Bard                 ...\n",
       "2                           Cleric               ...\n",
       "3                           Druid                ...\n",
       "4                           Fighter              ..."
      ]
     },
     "execution_count": 12,
     "metadata": {},
     "output_type": "execute_result"
    }
   ],
   "source": [
    "#Initailizing empty list \n",
    "all_classes=[]\n",
    "\n",
    "#Url we want to scrape\n",
    "url = 'https://www.dndbeyond.com/classes'\n",
    "browser.visit(url)\n",
    "\n",
    "#Using beautiful soup to parse html data:\n",
    "soup=bs4.BeautifulSoup(browser.html, 'html.parser')\n",
    "all_divs = soup.find_all('div',class_='listing-card__header-primary')\n",
    "\n",
    "#Looping through all div:\n",
    "for div in all_divs:\n",
    "   \n",
    "        classes= div.find('h3',class_='listing-card__title').text\n",
    "        class_dict = {'class':classes}\n",
    "        all_classes.append(class_dict)\n",
    "        \n",
    "#Creating DataFrame        \n",
    "classes_df = pd.DataFrame(all_classes)\n",
    "\n",
    "#Replacing \\n with ' '\n",
    "classes_df = classes_df.replace(r'\\n',' ', regex=True)\n",
    "\n",
    "classes_df.head()"
   ]
  },
  {
   "cell_type": "code",
   "execution_count": 13,
   "id": "e9088e38",
   "metadata": {},
   "outputs": [],
   "source": [
    "#Initialize an empty list \n",
    "all_classes=[]\n",
    "\n",
    "#Url we want to scrape\n",
    "url = 'https://www.dndbeyond.com/classes'\n",
    "\n",
    "#open a browser for that url\n",
    "browser.visit(url)\n",
    "\n",
    "\n",
    "#Using beautiful soup to parse html data:\n",
    "soup=bs4.BeautifulSoup(browser.html, 'html.parser')\n",
    "\n",
    "# Find all class names under the class 'listing-card__header-primary' using find_all \n",
    "all_divs = soup.find_all('h3',class_='listing-card__title')\n",
    "all_divs\n",
    "\n",
    "for title in all_divs:\n",
    "    title = title.text.strip(' ').strip('\\n').lstrip(' ')"
   ]
  },
  {
   "cell_type": "code",
   "execution_count": 16,
   "id": "74731087",
   "metadata": {},
   "outputs": [
    {
     "ename": "AttributeError",
     "evalue": "'NoneType' object has no attribute 'text'",
     "output_type": "error",
     "traceback": [
      "\u001b[1;31m---------------------------------------------------------------------------\u001b[0m",
      "\u001b[1;31mAttributeError\u001b[0m                            Traceback (most recent call last)",
      "\u001b[1;32m<ipython-input-16-b4b014827070>\u001b[0m in \u001b[0;36m<module>\u001b[1;34m\u001b[0m\n\u001b[0;32m     11\u001b[0m         \u001b[1;31m#gettting description  about specific class\u001b[0m\u001b[1;33m\u001b[0m\u001b[1;33m\u001b[0m\u001b[1;33m\u001b[0m\u001b[0m\n\u001b[0;32m     12\u001b[0m \u001b[1;33m\u001b[0m\u001b[0m\n\u001b[1;32m---> 13\u001b[1;33m         \u001b[0mdescription\u001b[0m \u001b[1;33m=\u001b[0m \u001b[0msoup\u001b[0m\u001b[1;33m.\u001b[0m\u001b[0mfind\u001b[0m\u001b[1;33m(\u001b[0m\u001b[1;34m'p'\u001b[0m\u001b[1;33m,\u001b[0m \u001b[0mclass_\u001b[0m\u001b[1;33m=\u001b[0m\u001b[1;34m'Core-Styles_Core-Body'\u001b[0m\u001b[1;33m)\u001b[0m\u001b[1;33m.\u001b[0m\u001b[0mtext\u001b[0m\u001b[1;33m\u001b[0m\u001b[1;33m\u001b[0m\u001b[0m\n\u001b[0m\u001b[0;32m     14\u001b[0m \u001b[1;33m\u001b[0m\u001b[0m\n\u001b[0;32m     15\u001b[0m         \u001b[1;31m#creating a dictionary having Class and Description\u001b[0m\u001b[1;33m\u001b[0m\u001b[1;33m\u001b[0m\u001b[1;33m\u001b[0m\u001b[0m\n",
      "\u001b[1;31mAttributeError\u001b[0m: 'NoneType' object has no attribute 'text'"
     ]
    }
   ],
   "source": [
    "for title in all_divs:\n",
    "    title = title.text.strip(' ').strip('\\n').lstrip(' ')    \n",
    "    if title != 'Artificer' and title != 'Blood Hunter':\n",
    "        url = f'https://www.dndbeyond.com/classes/{classes}'\n",
    "        #assign a new browser specific to that url\n",
    "        \n",
    "        browser.visit(url)\n",
    "        #using beautiful soup to parse through the above constructed url \n",
    "        soup=bs4.BeautifulSoup(browser.html, 'html.parser')\n",
    "        \n",
    "        #gettting description  about specific class\n",
    "        \n",
    "        description = soup.find('p', class_='Core-Styles_Core-Body').text\n",
    "        \n",
    "        #creating a dictionary having Class and Description\n",
    "        \n",
    "        class_dict = {'Class':classes, 'Description':description}\n",
    "        \n",
    "        #appending class_dict to list all_classes\n",
    "        all_classes.append(class_dict)"
   ]
  },
  {
   "cell_type": "code",
   "execution_count": 15,
   "id": "861961c3",
   "metadata": {},
   "outputs": [
    {
     "data": {
      "text/html": [
       "<div>\n",
       "<style scoped>\n",
       "    .dataframe tbody tr th:only-of-type {\n",
       "        vertical-align: middle;\n",
       "    }\n",
       "\n",
       "    .dataframe tbody tr th {\n",
       "        vertical-align: top;\n",
       "    }\n",
       "\n",
       "    .dataframe thead th {\n",
       "        text-align: right;\n",
       "    }\n",
       "</style>\n",
       "<table border=\"1\" class=\"dataframe\">\n",
       "  <thead>\n",
       "    <tr style=\"text-align: right;\">\n",
       "      <th></th>\n",
       "    </tr>\n",
       "  </thead>\n",
       "  <tbody>\n",
       "  </tbody>\n",
       "</table>\n",
       "</div>"
      ],
      "text/plain": [
       "Empty DataFrame\n",
       "Columns: []\n",
       "Index: []"
      ]
     },
     "execution_count": 15,
     "metadata": {},
     "output_type": "execute_result"
    }
   ],
   "source": [
    "#Creating DataFrame\n",
    "df = pd.DataFrame(all_classes)\n",
    "df.head()"
   ]
  },
  {
   "cell_type": "code",
   "execution_count": null,
   "id": "e98966a1",
   "metadata": {},
   "outputs": [],
   "source": []
  }
 ],
 "metadata": {
  "kernelspec": {
   "display_name": "Python 3",
   "language": "python",
   "name": "python3"
  },
  "language_info": {
   "codemirror_mode": {
    "name": "ipython",
    "version": 3
   },
   "file_extension": ".py",
   "mimetype": "text/x-python",
   "name": "python",
   "nbconvert_exporter": "python",
   "pygments_lexer": "ipython3",
   "version": "3.8.9"
  }
 },
 "nbformat": 4,
 "nbformat_minor": 5
}
