{
 "cells": [
  {
   "cell_type": "code",
   "execution_count": 29,
   "id": "e7955d34",
   "metadata": {},
   "outputs": [
    {
     "name": "stderr",
     "output_type": "stream",
     "text": [
      "\n",
      "\n",
      "====== WebDriver manager ======\n",
      "Current google-chrome version is 92.0.4515\n",
      "Get LATEST driver version for 92.0.4515\n",
      "Driver [C:\\Users\\sunny\\.wdm\\drivers\\chromedriver\\win32\\92.0.4515.107\\chromedriver.exe] found in cache\n"
     ]
    }
   ],
   "source": [
    "from splinter import Browser\n",
    "from webdriver_manager.chrome import ChromeDriverManager\n",
    "import bs4\n",
    "import pandas as pd\n",
    "\n",
    "executable_path = {'executable_path': ChromeDriverManager().install()}\n",
    "browser = Browser('chrome', **executable_path, headless=False)\n"
   ]
  },
  {
   "cell_type": "markdown",
   "id": "85fb12ce",
   "metadata": {},
   "source": [
    "Use Splinter and/or Beautiful Soup to scrape https://www.dndbeyond.com/classes, and\n",
    "pull out all class names. Store these in a dataframe."
   ]
  },
  {
   "cell_type": "code",
   "execution_count": 30,
   "id": "233b9ea7",
   "metadata": {},
   "outputs": [
    {
     "data": {
      "text/html": [
       "<div>\n",
       "<style scoped>\n",
       "    .dataframe tbody tr th:only-of-type {\n",
       "        vertical-align: middle;\n",
       "    }\n",
       "\n",
       "    .dataframe tbody tr th {\n",
       "        vertical-align: top;\n",
       "    }\n",
       "\n",
       "    .dataframe thead th {\n",
       "        text-align: right;\n",
       "    }\n",
       "</style>\n",
       "<table border=\"1\" class=\"dataframe\">\n",
       "  <thead>\n",
       "    <tr style=\"text-align: right;\">\n",
       "      <th></th>\n",
       "      <th>class</th>\n",
       "    </tr>\n",
       "  </thead>\n",
       "  <tbody>\n",
       "    <tr>\n",
       "      <th>0</th>\n",
       "      <td>\\n                        Barbarian\\n         ...</td>\n",
       "    </tr>\n",
       "    <tr>\n",
       "      <th>1</th>\n",
       "      <td>\\n                        Bard\\n              ...</td>\n",
       "    </tr>\n",
       "    <tr>\n",
       "      <th>2</th>\n",
       "      <td>\\n                        Cleric\\n            ...</td>\n",
       "    </tr>\n",
       "    <tr>\n",
       "      <th>3</th>\n",
       "      <td>\\n                        Druid\\n             ...</td>\n",
       "    </tr>\n",
       "    <tr>\n",
       "      <th>4</th>\n",
       "      <td>\\n                        Fighter\\n           ...</td>\n",
       "    </tr>\n",
       "  </tbody>\n",
       "</table>\n",
       "</div>"
      ],
      "text/plain": [
       "                                               class\n",
       "0  \\n                        Barbarian\\n         ...\n",
       "1  \\n                        Bard\\n              ...\n",
       "2  \\n                        Cleric\\n            ...\n",
       "3  \\n                        Druid\\n             ...\n",
       "4  \\n                        Fighter\\n           ..."
      ]
     },
     "execution_count": 30,
     "metadata": {},
     "output_type": "execute_result"
    }
   ],
   "source": [
    "#Initailizing empty list \n",
    "all_classtitle=[]\n",
    "\n",
    "#Url we want to scrape\n",
    "url = 'https://www.dndbeyond.com/classes'\n",
    "browser.visit(url)\n",
    "\n",
    "#Using beautiful soup to parse html data:\n",
    "soup=bs4.BeautifulSoup(browser.html, 'html.parser')\n",
    "all_divs = soup.find_all('div',class_='listing-card__header-primary')\n",
    "\n",
    "#Looping through:\n",
    "for div in all_divs:\n",
    "   \n",
    "        classes= div.find('h3',class_='listing-card__title').text\n",
    "        class_dict = {'class':classes}\n",
    "        all_classtitle.append(class_dict)\n",
    "        \n",
    "#Creating DataFrame        \n",
    "classes_df = pd.DataFrame(all_classetitle)\n",
    "\n",
    "classes_df.head()"
   ]
  },
  {
   "cell_type": "markdown",
   "id": "0d116b64",
   "metadata": {},
   "source": [
    "2) Now, alter 1 to click on each class name to go to the more detailed page, and pull out\n",
    "  the first paragraph about each class. Store these in a dataframe. Your dataframe should\n",
    "  have two columns."
   ]
  },
  {
   "cell_type": "code",
   "execution_count": 31,
   "id": "e2985b16",
   "metadata": {},
   "outputs": [
    {
     "data": {
      "text/html": [
       "<div>\n",
       "<style scoped>\n",
       "    .dataframe tbody tr th:only-of-type {\n",
       "        vertical-align: middle;\n",
       "    }\n",
       "\n",
       "    .dataframe tbody tr th {\n",
       "        vertical-align: top;\n",
       "    }\n",
       "\n",
       "    .dataframe thead th {\n",
       "        text-align: right;\n",
       "    }\n",
       "</style>\n",
       "<table border=\"1\" class=\"dataframe\">\n",
       "  <thead>\n",
       "    <tr style=\"text-align: right;\">\n",
       "      <th></th>\n",
       "      <th>Class</th>\n",
       "      <th>Detail</th>\n",
       "    </tr>\n",
       "  </thead>\n",
       "  <tbody>\n",
       "    <tr>\n",
       "      <th>0</th>\n",
       "      <td>Barbarian</td>\n",
       "      <td>A tall human tribesman strides through a blizz...</td>\n",
       "    </tr>\n",
       "    <tr>\n",
       "      <th>1</th>\n",
       "      <td>Bard</td>\n",
       "      <td>Humming as she traces her fingers over an anci...</td>\n",
       "    </tr>\n",
       "    <tr>\n",
       "      <th>2</th>\n",
       "      <td>Cleric</td>\n",
       "      <td>Arms and eyes upraised toward the sun and a pr...</td>\n",
       "    </tr>\n",
       "    <tr>\n",
       "      <th>3</th>\n",
       "      <td>Druid</td>\n",
       "      <td>Holding high a gnarled staff wreathed with hol...</td>\n",
       "    </tr>\n",
       "    <tr>\n",
       "      <th>4</th>\n",
       "      <td>Fighter</td>\n",
       "      <td>A human in clanging plate armor holds her shie...</td>\n",
       "    </tr>\n",
       "  </tbody>\n",
       "</table>\n",
       "</div>"
      ],
      "text/plain": [
       "       Class                                             Detail\n",
       "0  Barbarian  A tall human tribesman strides through a blizz...\n",
       "1       Bard  Humming as she traces her fingers over an anci...\n",
       "2     Cleric  Arms and eyes upraised toward the sun and a pr...\n",
       "3      Druid  Holding high a gnarled staff wreathed with hol...\n",
       "4    Fighter  A human in clanging plate armor holds her shie..."
      ]
     },
     "execution_count": 31,
     "metadata": {},
     "output_type": "execute_result"
    }
   ],
   "source": [
    "#Initialize an empty list \n",
    "all_classtitle=[]\n",
    "\n",
    "#Url we want to scrape\n",
    "url = 'https://www.dndbeyond.com/classes'\n",
    "\n",
    "#open a browser for that url\n",
    "browser.visit(url)\n",
    "\n",
    "\n",
    "#Using beautiful soup to parse html data:\n",
    "soup=bs4.BeautifulSoup(browser.html, 'html.parser')\n",
    "\n",
    "# Find all class names under the class 'listing-card__header-primary' using find_all \n",
    "all_divs = soup.find_all('div',class_='listing-card__header-primary')\n",
    "\n",
    "#Looping through:\n",
    "for title in all_divs:\n",
    "    \n",
    "#finding the class name under the classlisting-card__title using find\n",
    "    classes= title.find('h3',class_='listing-card__title').text\n",
    "    \n",
    "#removing extra spaces from clss name\n",
    "    classes= classes.strip()\n",
    "   #looping through the list generated in part 1 for constructing the URL\n",
    "\n",
    "    if classes != 'Artificer' and classes != 'Blood Hunter':\n",
    "        url = f'https://www.dndbeyond.com/classes/{classes}'\n",
    "        #assign a new browser specific to that url\n",
    "        \n",
    "        browser.visit(url)\n",
    "        #using beautiful soup to parse through the above constructed url \n",
    "        soup=bs4.BeautifulSoup(browser.html, 'html.parser')\n",
    "        \n",
    "        #gettting description  about specific class\n",
    "        \n",
    "        detail = soup.find('p', class_='Core-Styles_Core-Body').text\n",
    "        \n",
    "        #creating a dictionary having Class and Description\n",
    "        \n",
    "        class_dict = {'Class':classes, 'Detail':detail}\n",
    "        \n",
    "        #appending class_dict to list all_classes\n",
    "        all_classtitle.append(class_dict)\n",
    "        \n",
    "#Creating DataFrame\n",
    "df = pd.DataFrame(all_classtitle)\n",
    "df.head()"
   ]
  }
 ],
 "metadata": {
  "kernelspec": {
   "display_name": "Python 3",
   "language": "python",
   "name": "python3"
  },
  "language_info": {
   "codemirror_mode": {
    "name": "ipython",
    "version": 3
   },
   "file_extension": ".py",
   "mimetype": "text/x-python",
   "name": "python",
   "nbconvert_exporter": "python",
   "pygments_lexer": "ipython3",
   "version": "3.8.9"
  }
 },
 "nbformat": 4,
 "nbformat_minor": 5
}
